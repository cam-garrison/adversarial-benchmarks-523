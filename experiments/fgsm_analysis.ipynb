{
 "cells": [
  {
   "cell_type": "code",
   "execution_count": 10,
   "metadata": {},
   "outputs": [],
   "source": [
    "import csv\n",
    "import matplotlib.pyplot as plt\n",
    "import numpy as np"
   ]
  },
  {
   "cell_type": "code",
   "execution_count": 12,
   "metadata": {},
   "outputs": [
    {
     "name": "stdout",
     "output_type": "stream",
     "text": [
      "Header:\n",
      "['epsilon', 'pct_misclassified', 'num_misclassified', 'total_attempted', 'avg_mask_norm']\n",
      "Data:\n",
      "['0.001', '0.12158054711246201', '120', '987', '0.3879777747447005']\n",
      "['0.01', '0.7082066869300911', '699', '987', '3.8797774788335704']\n",
      "['0.02', '0.8926038500506586', '881', '987', '7.759554931578786']\n",
      "['0.05', '0.9766970618034447', '964', '987', '19.398888886518392']\n"
     ]
    }
   ],
   "source": [
    "header = None\n",
    "data = []\n",
    "\n",
    "with open('results/fgsm_results.csv', encoding=\"utf8\") as f:\n",
    "    csv_reader = csv.reader(f)\n",
    "    for line_no, line in enumerate(csv_reader, 1):\n",
    "        if line_no == 1:\n",
    "            print('Header:')\n",
    "            print(line)  # header\n",
    "            header = line\n",
    "            print('Data:')\n",
    "        else:\n",
    "            print(line)  # data\n",
    "            data.append( np.asarray(line, dtype=np.float32) )"
   ]
  },
  {
   "cell_type": "code",
   "execution_count": 13,
   "metadata": {},
   "outputs": [
    {
     "data": {
      "text/plain": [
       "['epsilon',\n",
       " 'pct_misclassified',\n",
       " 'num_misclassified',\n",
       " 'total_attempted',\n",
       " 'avg_mask_norm']"
      ]
     },
     "execution_count": 13,
     "metadata": {},
     "output_type": "execute_result"
    }
   ],
   "source": [
    "header"
   ]
  },
  {
   "cell_type": "code",
   "execution_count": 15,
   "metadata": {},
   "outputs": [
    {
     "data": {
      "text/plain": [
       "array([[1.0000000e-03, 1.2158055e-01, 1.2000000e+02, 9.8700000e+02,\n",
       "        3.8797778e-01],\n",
       "       [9.9999998e-03, 7.0820671e-01, 6.9900000e+02, 9.8700000e+02,\n",
       "        3.8797774e+00],\n",
       "       [2.0000000e-02, 8.9260387e-01, 8.8100000e+02, 9.8700000e+02,\n",
       "        7.7595549e+00],\n",
       "       [5.0000001e-02, 9.7669709e-01, 9.6400000e+02, 9.8700000e+02,\n",
       "        1.9398890e+01]], dtype=float32)"
      ]
     },
     "execution_count": 15,
     "metadata": {},
     "output_type": "execute_result"
    }
   ],
   "source": [
    "data = np.asarray(data)\n",
    "data"
   ]
  },
  {
   "cell_type": "code",
   "execution_count": 17,
   "metadata": {},
   "outputs": [
    {
     "name": "stdout",
     "output_type": "stream",
     "text": [
      "[0.001 0.01  0.02  0.05 ] [0.12158055 0.7082067  0.8926039  0.9766971 ] [ 0.38797778  3.8797774   7.759555   19.39889   ]\n"
     ]
    }
   ],
   "source": [
    "epsilons = data[:,0]\n",
    "pct_misclassified = data[:,1]\n",
    "avg_mask_norm = data[:,4]\n",
    "print(epsilons, pct_misclassified, avg_mask_norm)"
   ]
  },
  {
   "cell_type": "code",
   "execution_count": 22,
   "metadata": {},
   "outputs": [
    {
     "data": {
      "image/png": "[encoded data removed]",
      "text/plain": [
       "<Figure size 432x288 with 1 Axes>"
      ]
     },
     "metadata": {
      "needs_background": "light"
     },
     "output_type": "display_data"
    }
   ],
   "source": [
    "# okay, we have the data we want to plot. lets do it. \n",
    "\n",
    "plt.plot(epsilons, pct_misclassified, 'ro')\n",
    "plt.title('Misclassification rate with increasing Epsilon')\n",
    "plt.xlabel('Epsilon')\n",
    "plt.ylabel('Rate of misclassified samples')\n",
    "plt.show()"
   ]
  },
  {
   "cell_type": "code",
   "execution_count": 23,
   "metadata": {},
   "outputs": [
    {
     "data": {
      "image/png": "[encoded data removed]",
      "text/plain": [
       "<Figure size 432x288 with 1 Axes>"
      ]
     },
     "metadata": {
      "needs_background": "light"
     },
     "output_type": "display_data"
    }
   ],
   "source": [
    "plt.plot(epsilons, avg_mask_norm, 'ro')\n",
    "plt.title('Mask Size with increasing Epsilon')\n",
    "plt.xlabel('Epsilon')\n",
    "plt.ylabel('Mask Norm')\n",
    "plt.show()"
   ]
  }
 ],
 "metadata": {
  "kernelspec": {
   "display_name": "env",
   "language": "python",
   "name": "env"
  },
  "language_info": {
   "codemirror_mode": {
    "name": "ipython",
    "version": 3
   },
   "file_extension": ".py",
   "mimetype": "text/x-python",
   "name": "python",
   "nbconvert_exporter": "python",
   "pygments_lexer": "ipython3",
   "version": "3.8.7"
  }
 },
 "nbformat": 4,
 "nbformat_minor": 2
}

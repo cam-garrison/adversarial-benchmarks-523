{
 "cells": [
  {
   "cell_type": "code",
   "execution_count": 1,
   "id": "ecde50a5",
   "metadata": {},
   "outputs": [
    {
     "name": "stderr",
     "output_type": "stream",
     "text": [
      "/home/jkunstle/.local/lib/python3.9/site-packages/tqdm/auto.py:22: TqdmWarning: IProgress not found. Please update jupyter and ipywidgets. See https://ipywidgets.readthedocs.io/en/stable/user_install.html\n",
      "  from .autonotebook import tqdm as notebook_tqdm\n"
     ]
    },
    {
     "name": "stdout",
     "output_type": "stream",
     "text": [
      "AlexNet Loaded\n",
      "Device used: cuda:0\n"
     ]
    }
   ],
   "source": [
    "import torch\n",
    "import torchvision\n",
    "import numpy as np\n",
    "from pathlib import Path\n",
    "from glob import glob\n",
    "import cv2 \n",
    "import matplotlib.pyplot as plt \n",
    "from PIL import Image\n",
    "import scipy.io\n",
    "from tqdm import trange, tqdm\n",
    "from random import shuffle\n",
    "import pickle\n",
    "\n",
    "from src.alexnet import model as alexnet_model, preprocess as alexnet_preprocess\n",
    "from data.labels import labels\n",
    "\n",
    "from src.simba import SimBA_Attack\n",
    "\n",
    "device = torch.device(\"cuda:0\" if torch.cuda.is_available() else \"cpu\")\n",
    "\n",
    "print(f\"Device used: {device}\")"
   ]
  },
  {
   "cell_type": "code",
   "execution_count": 2,
   "id": "53c206a9",
   "metadata": {},
   "outputs": [],
   "source": [
    "labels_path = Path(\"./results/used_labels.txt\")\n",
    "image_names_path = Path(\"./results/used_images.txt\")\n",
    "images_subset_path = Path(\"./results/subset_used/\")"
   ]
  },
  {
   "cell_type": "code",
   "execution_count": 3,
   "id": "dac1316a",
   "metadata": {},
   "outputs": [],
   "source": [
    "def get_names_labels():\n",
    "    with open(labels_path, \"r\") as f:\n",
    "        lines = f.readlines()\n",
    "    labels = [line.rstrip() for line in lines]\n",
    "    \n",
    "    with open(image_names_path, \"r\") as f:\n",
    "        lines = f.readlines()\n",
    "    names = [line.rstrip() for line in lines]\n",
    "    return labels, names\n",
    "        \n",
    "LABELS, NAMES = get_names_labels()\n",
    "PATHS = [\"./results/subset_used/\" + p for p in NAMES]"
   ]
  },
  {
   "cell_type": "code",
   "execution_count": 4,
   "id": "903a645a",
   "metadata": {},
   "outputs": [],
   "source": [
    "def get_alexnet_img(path):\n",
    "    img = Image.open(path)\n",
    "    return alexnet_preprocess(img)\n",
    "\n",
    "def find_correctly_classified(model, paths, labels):\n",
    "    \"\"\"\n",
    "        Shuffle paths / labels together so we get a different set of inputs\n",
    "        each time.\n",
    "        \n",
    "        Ref:\n",
    "        https://www.geeksforgeeks.org/python-shuffle-two-lists-with-same-order/\n",
    "    \"\"\"\n",
    "        \n",
    "    model.eval()\n",
    "        \n",
    "    correct = []\n",
    "    for i in trange(len(paths)):\n",
    "        this_path = paths[i]\n",
    "        \n",
    "        try:\n",
    "            this_image = get_alexnet_img(this_path)\n",
    "            \n",
    "            with torch.no_grad():\n",
    "                logits = model(this_image.view(-1,3,224,224))\n",
    "                \n",
    "            preds = torch.nn.functional.softmax(logits, dim=1)\n",
    "        except:\n",
    "            continue\n",
    "            \n",
    "        y_hat = int(torch.argmax(preds))\n",
    "        \n",
    "        \"\"\"\n",
    "            Found that inputs that model was very confident on required\n",
    "            many adversarial iterations, so picked those that it is reason-\n",
    "            ably confident on but is somewhat close to the decision boundary.\"\"\"\n",
    "        if y_hat == int(labels[i]):\n",
    "            correct += [[this_path, y_hat]]\n",
    "            \n",
    "    return correct"
   ]
  },
  {
   "cell_type": "code",
   "execution_count": 5,
   "id": "7ccfca81",
   "metadata": {},
   "outputs": [],
   "source": [
    "# n_correct = find_correctly_classified(alexnet_model, PATHS, LABELS)\n",
    "# print(len(n_correct))"
   ]
  },
  {
   "cell_type": "code",
   "execution_count": 6,
   "id": "f20129d3",
   "metadata": {},
   "outputs": [
    {
     "name": "stdout",
     "output_type": "stream",
     "text": [
      "987\n"
     ]
    }
   ],
   "source": [
    "# grab datastructure w/ perturbations from pickle\n",
    "with open(\"./results/sorted_outputs.p\", \"rb\") as f:\n",
    "    out_vecs_read = pickle.load(f)\n",
    "    \n",
    "print(len(out_vecs_read))"
   ]
  },
  {
   "cell_type": "code",
   "execution_count": 7,
   "id": "6ca07427",
   "metadata": {},
   "outputs": [],
   "source": [
    "count_hist = []\n",
    "iter_hist = []\n",
    "norms_hist = []\n",
    "\n",
    "for vec in out_vecs_read:\n",
    "    img_path, x, y, history, count, iters = vec\n",
    "    count_hist.append(count)\n",
    "    iter_hist.append(iters)\n",
    "    norms_hist.append(np.linalg.norm(history))"
   ]
  },
  {
   "cell_type": "code",
   "execution_count": 8,
   "id": "d64c71d9",
   "metadata": {},
   "outputs": [
    {
     "data": {
      "image/png": "[encoded data removed]",
      "text/plain": [
       "<Figure size 432x288 with 1 Axes>"
      ]
     },
     "metadata": {
      "needs_background": "light"
     },
     "output_type": "display_data"
    },
    {
     "data": {
      "image/png": "[encoded data removed]",
      "text/plain": [
       "<Figure size 432x288 with 1 Axes>"
      ]
     },
     "metadata": {
      "needs_background": "light"
     },
     "output_type": "display_data"
    },
    {
     "name": "stdout",
     "output_type": "stream",
     "text": [
      "Max: 5901\n",
      "Avg: 974.0597771023303\n",
      "Std: 852.5127728280709\n",
      "Med: 778.0\n",
      "Min: 2\n"
     ]
    }
   ],
   "source": [
    "plt.hist(count_hist, edgecolor=\"black\")\n",
    "plt.title(\"# Adversarial Perturbations vs. # Instances\")\n",
    "plt.xlabel(\"# Perturbations\")\n",
    "plt.ylabel(\"# Instances\")\n",
    "plt.show()\n",
    "\n",
    "plt.boxplot(count_hist)\n",
    "plt.title(\"Box and Whisker: Iterations to Convergence\")\n",
    "plt.ylabel(\"# Iterations\")\n",
    "plt.show()\n",
    "\n",
    "print(f\"Max: {np.max(count_hist)}\")\n",
    "print(f\"Avg: {np.mean(count_hist)}\")\n",
    "print(f\"Std: {np.std(count_hist)}\")\n",
    "print(f\"Med: {np.median(count_hist)}\")\n",
    "print(f\"Min: {np.min(count_hist)}\")"
   ]
  },
  {
   "cell_type": "code",
   "execution_count": 9,
   "id": "ffb64ce9",
   "metadata": {},
   "outputs": [
    {
     "data": {
      "image/png": "[encoded data removed]",
      "text/plain": [
       "<Figure size 432x288 with 1 Axes>"
      ]
     },
     "metadata": {
      "needs_background": "light"
     },
     "output_type": "display_data"
    },
    {
     "data": {
      "image/png": "[encoded data removed]",
      "text/plain": [
       "<Figure size 432x288 with 1 Axes>"
      ]
     },
     "metadata": {
      "needs_background": "light"
     },
     "output_type": "display_data"
    },
    {
     "name": "stdout",
     "output_type": "stream",
     "text": [
      "Max: 38114\n",
      "Avg: 1329.6717325227964\n",
      "Std: 1784.4693209715572\n",
      "Med: 972.0\n",
      "Min: 2\n"
     ]
    }
   ],
   "source": [
    "plt.hist(iter_hist, edgecolor=\"black\")\n",
    "plt.title(\"# Iterations vs. # Instances\")\n",
    "plt.xlabel(\"# Iterations\")\n",
    "plt.ylabel(\"# Instances\")\n",
    "plt.show()\n",
    "\n",
    "plt.boxplot(iter_hist)\n",
    "plt.title(\"Box and Whisker: Iterations to Convergence\")\n",
    "plt.ylabel(\"# Iterations\")\n",
    "plt.show()\n",
    "\n",
    "print(f\"Max: {np.max(iter_hist)}\")\n",
    "print(f\"Avg: {np.mean(iter_hist)}\")\n",
    "print(f\"Std: {np.std(iter_hist)}\")\n",
    "print(f\"Med: {np.median(iter_hist)}\")\n",
    "print(f\"Min: {np.min(iter_hist)}\")"
   ]
  },
  {
   "cell_type": "code",
   "execution_count": 10,
   "id": "a1ac29b8",
   "metadata": {},
   "outputs": [
    {
     "data": {
      "image/png": "[encoded data removed]",
      "text/plain": [
       "<Figure size 432x288 with 1 Axes>"
      ]
     },
     "metadata": {
      "needs_background": "light"
     },
     "output_type": "display_data"
    },
    {
     "data": {
      "image/png": "[encoded data removed]",
      "text/plain": [
       "<Figure size 432x288 with 1 Axes>"
      ]
     },
     "metadata": {
      "needs_background": "light"
     },
     "output_type": "display_data"
    },
    {
     "name": "stdout",
     "output_type": "stream",
     "text": [
      "Max: 61.454349517822266\n",
      "Avg: 22.601285934448242\n",
      "Std: 10.610371589660645\n",
      "Med: 22.314123153686523\n",
      "Min: 1.1313709020614624\n"
     ]
    }
   ],
   "source": [
    "plt.hist(norms_hist, edgecolor=\"black\")\n",
    "plt.title(\"# Norm of Perturbation vs. Instances\")\n",
    "plt.xlabel(\"Size of Perturbation\")\n",
    "plt.ylabel(\"# Instances\")\n",
    "plt.show()\n",
    "\n",
    "plt.boxplot(norms_hist)\n",
    "plt.title(\"Box and Whisker: Size of Perturbation\")\n",
    "plt.ylabel(\"# Instances\")\n",
    "plt.show()\n",
    "\n",
    "print(f\"Max: {np.max(norms_hist)}\")\n",
    "print(f\"Avg: {np.mean(norms_hist)}\")\n",
    "print(f\"Std: {np.std(norms_hist)}\")\n",
    "print(f\"Med: {np.median(norms_hist)}\")\n",
    "print(f\"Min: {np.min(norms_hist)}\")"
   ]
  },
  {
   "cell_type": "code",
   "execution_count": null,
   "id": "eb8a1f6e",
   "metadata": {},
   "outputs": [],
   "source": []
  }
 ],
 "metadata": {
  "kernelspec": {
   "display_name": "Python 3 (ipykernel)",
   "language": "python",
   "name": "python3"
  },
  "language_info": {
   "codemirror_mode": {
    "name": "ipython",
    "version": 3
   },
   "file_extension": ".py",
   "mimetype": "text/x-python",
   "name": "python",
   "nbconvert_exporter": "python",
   "pygments_lexer": "ipython3",
   "version": "3.9.13"
  }
 },
 "nbformat": 4,
 "nbformat_minor": 5
}

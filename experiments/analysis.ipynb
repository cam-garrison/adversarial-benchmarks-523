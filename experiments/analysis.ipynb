{
 "cells": [
  {
   "cell_type": "code",
   "execution_count": 27,
   "id": "ecde50a5",
   "metadata": {},
   "outputs": [
    {
     "name": "stdout",
     "output_type": "stream",
     "text": [
      "Device used: cuda:0\n"
     ]
    }
   ],
   "source": [
    "import torch\n",
    "import torchvision\n",
    "import numpy as np\n",
    "from pathlib import Path\n",
    "from glob import glob\n",
    "import cv2 \n",
    "import matplotlib.pyplot as plt \n",
    "from PIL import Image\n",
    "import scipy.io\n",
    "from tqdm import trange, tqdm\n",
    "from random import shuffle\n",
    "import pickle\n",
    "\n",
    "from src.alexnet import model as alexnet_model, preprocess as alexnet_preprocess\n",
    "from data.labels import labels\n",
    "\n",
    "from src.simba import SimBA_Attack\n",
    "\n",
    "device = torch.device(\"cuda:0\" if torch.cuda.is_available() else \"cpu\")\n",
    "\n",
    "print(f\"Device used: {device}\")"
   ]
  },
  {
   "cell_type": "code",
   "execution_count": 28,
   "id": "53c206a9",
   "metadata": {},
   "outputs": [],
   "source": [
    "labels_path = Path(\"./results/used_labels.txt\")\n",
    "image_names_path = Path(\"./results/used_images.txt\")\n",
    "images_subset_path = Path(\"./results/subset_used/\")"
   ]
  },
  {
   "cell_type": "code",
   "execution_count": 29,
   "id": "dac1316a",
   "metadata": {},
   "outputs": [],
   "source": [
    "def get_names_labels():\n",
    "    with open(labels_path, \"r\") as f:\n",
    "        lines = f.readlines()\n",
    "    labels = [line.rstrip() for line in lines]\n",
    "    \n",
    "    with open(image_names_path, \"r\") as f:\n",
    "        lines = f.readlines()\n",
    "    names = [line.rstrip() for line in lines]\n",
    "    return labels, names\n",
    "        \n",
    "LABELS, NAMES = get_names_labels()\n",
    "PATHS = [\"./results/subset_used/\" + p for p in NAMES]"
   ]
  },
  {
   "cell_type": "code",
   "execution_count": 30,
   "id": "903a645a",
   "metadata": {},
   "outputs": [],
   "source": [
    "def get_alexnet_img(path):\n",
    "    img = Image.open(path)\n",
    "    return alexnet_preprocess(img)\n",
    "\n",
    "def find_correctly_classified(model, paths, labels):\n",
    "    \"\"\"\n",
    "        Shuffle paths / labels together so we get a different set of inputs\n",
    "        each time.\n",
    "        \n",
    "        Ref:\n",
    "        https://www.geeksforgeeks.org/python-shuffle-two-lists-with-same-order/\n",
    "    \"\"\"\n",
    "        \n",
    "    model.eval()\n",
    "        \n",
    "    correct = []\n",
    "    for i in trange(len(paths)):\n",
    "        this_path = paths[i]\n",
    "        \n",
    "        try:\n",
    "            this_image = get_alexnet_img(this_path)\n",
    "            \n",
    "            with torch.no_grad():\n",
    "                logits = model(this_image.view(-1,3,224,224))\n",
    "                \n",
    "            preds = torch.nn.functional.softmax(logits, dim=1)\n",
    "        except:\n",
    "            continue\n",
    "            \n",
    "        y_hat = int(torch.argmax(preds))\n",
    "        \n",
    "        \"\"\"\n",
    "            Found that inputs that model was very confident on required\n",
    "            many adversarial iterations, so picked those that it is reason-\n",
    "            ably confident on but is somewhat close to the decision boundary.\"\"\"\n",
    "        if y_hat == int(labels[i]):\n",
    "            correct += [[this_path, y_hat]]\n",
    "            \n",
    "    return correct"
   ]
  },
  {
   "cell_type": "code",
   "execution_count": 31,
   "id": "7ccfca81",
   "metadata": {},
   "outputs": [
    {
     "name": "stderr",
     "output_type": "stream",
     "text": [
      "100%|█████████████████████████████████████████| 987/987 [00:14<00:00, 70.28it/s]\n"
     ]
    }
   ],
   "source": [
    "n_correct = find_correctly_classified(alexnet_model, PATHS, LABELS)"
   ]
  },
  {
   "cell_type": "code",
   "execution_count": 32,
   "id": "fd62d3f7",
   "metadata": {},
   "outputs": [
    {
     "name": "stdout",
     "output_type": "stream",
     "text": [
      "987\n"
     ]
    }
   ],
   "source": [
    "print(len(n_correct))"
   ]
  },
  {
   "cell_type": "code",
   "execution_count": 33,
   "id": "f20129d3",
   "metadata": {},
   "outputs": [
    {
     "name": "stdout",
     "output_type": "stream",
     "text": [
      "987\n"
     ]
    }
   ],
   "source": [
    "# grab datastructure w/ perturbations from pickle\n",
    "with open(\"./results/sorted_outputs.p\", \"rb\") as f:\n",
    "    out_vecs_read = pickle.load(f)\n",
    "    \n",
    "print(len(out_vecs_read))"
   ]
  },
  {
   "cell_type": "code",
   "execution_count": null,
   "id": "6ca07427",
   "metadata": {},
   "outputs": [],
   "source": []
  }
 ],
 "metadata": {
  "kernelspec": {
   "display_name": "Python 3 (ipykernel)",
   "language": "python",
   "name": "python3"
  },
  "language_info": {
   "codemirror_mode": {
    "name": "ipython",
    "version": 3
   },
   "file_extension": ".py",
   "mimetype": "text/x-python",
   "name": "python",
   "nbconvert_exporter": "python",
   "pygments_lexer": "ipython3",
   "version": "3.9.13"
  }
 },
 "nbformat": 4,
 "nbformat_minor": 5
}
